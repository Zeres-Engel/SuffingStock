{
 "cells": [
  {
   "attachments": {},
   "cell_type": "markdown",
   "metadata": {},
   "source": [
    "Setting Library"
   ]
  },
  {
   "cell_type": "code",
   "execution_count": 20,
   "metadata": {},
   "outputs": [],
   "source": [
    "#Data Prrocessing\n",
    "import pandas as pd\n",
    "import datetime as dt\n",
    "import numpy as np\n",
    "\n",
    "#API\n",
    "import vnstock\n",
    "from vnstock import *\n",
    "\n",
    "#Visualization\n",
    "import matplotlib.pyplot as plt\n",
    "\n",
    "#Predictions\n",
    "import tensorflow as tf\n",
    "tf.config.list_physical_devices('GPU') #GPU device\n",
    "from sklearn.preprocessing import MinMaxScaler\n",
    "from keras.models import Sequential\n",
    "from keras.layers import Dense, Dropout, LSTM\n",
    "from keras import optimizers"
   ]
  },
  {
   "attachments": {},
   "cell_type": "markdown",
   "metadata": {},
   "source": [
    "Load data"
   ]
  },
  {
   "cell_type": "code",
   "execution_count": 21,
   "metadata": {},
   "outputs": [
    {
     "name": "stdout",
     "output_type": "stream",
     "text": [
      "1.FPT's stock\n",
      "2.CTG's stock\n",
      "3.LCG's stock\n"
     ]
    }
   ],
   "source": [
    "#Company list\n",
    "companies = []\n",
    "fhandle = open(\"Data\\companylist.txt\",\"r\")\n",
    "order = 0\n",
    "for line in fhandle.readlines():\n",
    "    company = line.strip()\n",
    "    order += 1\n",
    "    print(f\"{order}.{company}'s stock\")"
   ]
  },
  {
   "cell_type": "code",
   "execution_count": 22,
   "metadata": {},
   "outputs": [
    {
     "data": {
      "text/html": [
       "<div>\n",
       "<style scoped>\n",
       "    .dataframe tbody tr th:only-of-type {\n",
       "        vertical-align: middle;\n",
       "    }\n",
       "\n",
       "    .dataframe tbody tr th {\n",
       "        vertical-align: top;\n",
       "    }\n",
       "\n",
       "    .dataframe thead th {\n",
       "        text-align: right;\n",
       "    }\n",
       "</style>\n",
       "<table border=\"1\" class=\"dataframe\">\n",
       "  <thead>\n",
       "    <tr style=\"text-align: right;\">\n",
       "      <th></th>\n",
       "      <th>Unnamed: 0</th>\n",
       "      <th>Open</th>\n",
       "      <th>High</th>\n",
       "      <th>Low</th>\n",
       "      <th>Close</th>\n",
       "      <th>Volume</th>\n",
       "      <th>TradingDate</th>\n",
       "    </tr>\n",
       "  </thead>\n",
       "  <tbody>\n",
       "    <tr>\n",
       "      <th>0</th>\n",
       "      <td>0</td>\n",
       "      <td>15710.0</td>\n",
       "      <td>15710.0</td>\n",
       "      <td>15710.0</td>\n",
       "      <td>15710.0</td>\n",
       "      <td>83530</td>\n",
       "      <td>2006-12-13</td>\n",
       "    </tr>\n",
       "    <tr>\n",
       "      <th>1</th>\n",
       "      <td>1</td>\n",
       "      <td>16495.0</td>\n",
       "      <td>16495.0</td>\n",
       "      <td>16495.0</td>\n",
       "      <td>16495.0</td>\n",
       "      <td>280710</td>\n",
       "      <td>2006-12-14</td>\n",
       "    </tr>\n",
       "    <tr>\n",
       "      <th>2</th>\n",
       "      <td>2</td>\n",
       "      <td>17320.0</td>\n",
       "      <td>17320.0</td>\n",
       "      <td>17320.0</td>\n",
       "      <td>17320.0</td>\n",
       "      <td>265300</td>\n",
       "      <td>2006-12-15</td>\n",
       "    </tr>\n",
       "    <tr>\n",
       "      <th>3</th>\n",
       "      <td>3</td>\n",
       "      <td>18184.0</td>\n",
       "      <td>18184.0</td>\n",
       "      <td>18184.0</td>\n",
       "      <td>18184.0</td>\n",
       "      <td>215790</td>\n",
       "      <td>2006-12-18</td>\n",
       "    </tr>\n",
       "    <tr>\n",
       "      <th>4</th>\n",
       "      <td>4</td>\n",
       "      <td>19087.0</td>\n",
       "      <td>19087.0</td>\n",
       "      <td>19087.0</td>\n",
       "      <td>19087.0</td>\n",
       "      <td>137520</td>\n",
       "      <td>2006-12-19</td>\n",
       "    </tr>\n",
       "    <tr>\n",
       "      <th>...</th>\n",
       "      <td>...</td>\n",
       "      <td>...</td>\n",
       "      <td>...</td>\n",
       "      <td>...</td>\n",
       "      <td>...</td>\n",
       "      <td>...</td>\n",
       "      <td>...</td>\n",
       "    </tr>\n",
       "    <tr>\n",
       "      <th>4016</th>\n",
       "      <td>4016</td>\n",
       "      <td>84200.0</td>\n",
       "      <td>84400.0</td>\n",
       "      <td>83700.0</td>\n",
       "      <td>83700.0</td>\n",
       "      <td>893299</td>\n",
       "      <td>2023-01-30</td>\n",
       "    </tr>\n",
       "    <tr>\n",
       "      <th>4017</th>\n",
       "      <td>4017</td>\n",
       "      <td>83500.0</td>\n",
       "      <td>83700.0</td>\n",
       "      <td>81700.0</td>\n",
       "      <td>83500.0</td>\n",
       "      <td>1531495</td>\n",
       "      <td>2023-01-31</td>\n",
       "    </tr>\n",
       "    <tr>\n",
       "      <th>4018</th>\n",
       "      <td>4018</td>\n",
       "      <td>84000.0</td>\n",
       "      <td>84000.0</td>\n",
       "      <td>81800.0</td>\n",
       "      <td>82000.0</td>\n",
       "      <td>1051061</td>\n",
       "      <td>2023-02-01</td>\n",
       "    </tr>\n",
       "    <tr>\n",
       "      <th>4019</th>\n",
       "      <td>4019</td>\n",
       "      <td>82100.0</td>\n",
       "      <td>82400.0</td>\n",
       "      <td>81300.0</td>\n",
       "      <td>81900.0</td>\n",
       "      <td>1327690</td>\n",
       "      <td>2023-02-02</td>\n",
       "    </tr>\n",
       "    <tr>\n",
       "      <th>4020</th>\n",
       "      <td>4020</td>\n",
       "      <td>82000.0</td>\n",
       "      <td>82000.0</td>\n",
       "      <td>80100.0</td>\n",
       "      <td>80100.0</td>\n",
       "      <td>1730152</td>\n",
       "      <td>2023-02-03</td>\n",
       "    </tr>\n",
       "  </tbody>\n",
       "</table>\n",
       "<p>4021 rows × 7 columns</p>\n",
       "</div>"
      ],
      "text/plain": [
       "      Unnamed: 0     Open     High      Low    Close   Volume TradingDate\n",
       "0              0  15710.0  15710.0  15710.0  15710.0    83530  2006-12-13\n",
       "1              1  16495.0  16495.0  16495.0  16495.0   280710  2006-12-14\n",
       "2              2  17320.0  17320.0  17320.0  17320.0   265300  2006-12-15\n",
       "3              3  18184.0  18184.0  18184.0  18184.0   215790  2006-12-18\n",
       "4              4  19087.0  19087.0  19087.0  19087.0   137520  2006-12-19\n",
       "...          ...      ...      ...      ...      ...      ...         ...\n",
       "4016        4016  84200.0  84400.0  83700.0  83700.0   893299  2023-01-30\n",
       "4017        4017  83500.0  83700.0  81700.0  83500.0  1531495  2023-01-31\n",
       "4018        4018  84000.0  84000.0  81800.0  82000.0  1051061  2023-02-01\n",
       "4019        4019  82100.0  82400.0  81300.0  81900.0  1327690  2023-02-02\n",
       "4020        4020  82000.0  82000.0  80100.0  80100.0  1730152  2023-02-03\n",
       "\n",
       "[4021 rows x 7 columns]"
      ]
     },
     "execution_count": 22,
     "metadata": {},
     "output_type": "execute_result"
    }
   ],
   "source": [
    "company = 'FPT'\n",
    "df = pd.read_csv(f\"Data\\Raw\\{company}.csv\", delimiter = \",\", encoding=\"utf-8\")\n",
    "df"
   ]
  },
  {
   "attachments": {},
   "cell_type": "markdown",
   "metadata": {},
   "source": [
    "Preprocessing data"
   ]
  },
  {
   "cell_type": "code",
   "execution_count": 23,
   "metadata": {},
   "outputs": [],
   "source": [
    "#Format data\n",
    "df['TradingDate'] = pd.to_datetime(df.TradingDate, format = \"%Y/%m/%d\")"
   ]
  },
  {
   "cell_type": "code",
   "execution_count": 24,
   "metadata": {},
   "outputs": [],
   "source": [
    "#Candlesticks\n",
    "df['H-L'] = df['High'] - df['Low']\n",
    "df['O-C'] = df['Open'] - df['Close']\n",
    "\n",
    "#Simple moving average\n",
    "MA1 = 7\n",
    "MA2 = 14\n",
    "MA3 = 21\n",
    "df[f'SMA_{MA1}'] = df['Close'].rolling(window = MA1).mean()\n",
    "df[f'SMA_{MA2}'] = df['Close'].rolling(window = MA2).mean()\n",
    "df[f'SMA_{MA3}'] = df['Close'].rolling(window = MA3).mean()\n",
    "\n",
    "#Standard deviation\n",
    "df[f'SD_{MA1}'] = df['Close'].rolling(window = MA1).std()\n",
    "df[f'SD_{MA3}'] = df['Close'].rolling(window = MA3).std()\n",
    "\n",
    "#Drop missing data\n",
    "df.dropna(inplace = True)"
   ]
  },
  {
   "cell_type": "code",
   "execution_count": 25,
   "metadata": {},
   "outputs": [
    {
     "data": {
      "image/png": "[encoded data removed]",
      "text/plain": [
       "<Figure size 2300x500 with 1 Axes>"
      ]
     },
     "metadata": {},
     "output_type": "display_data"
    }
   ],
   "source": [
    "#Visualization\n",
    "real_price = pd.DataFrame(df, columns = ['TradingDate', 'Close'])\n",
    "real_price.index = real_price.TradingDate\n",
    "real_price.drop('TradingDate', axis = 1, inplace = True)\n",
    "plt.figure(figsize = (23,5))\n",
    "plt.plot(real_price['Close'], color = \"red\", label = f\"Real {company}'s prices\")\n",
    "plt.title(f\"{company}'s prices\")\n",
    "plt.xlabel(\"Time\")\n",
    "plt.ylabel(\"Close prices\")\n",
    "plt.ylim(bottom = 0)\n",
    "plt.legend() #Notices\n",
    "plt.show()"
   ]
  },
  {
   "cell_type": "code",
   "execution_count": 26,
   "metadata": {},
   "outputs": [],
   "source": [
    "#Exporting data\n",
    "df.to_csv(f\"Data\\Prepaired\\{company}pre.csv\", encoding = \"utf-8\")"
   ]
  },
  {
   "attachments": {},
   "cell_type": "markdown",
   "metadata": {},
   "source": [
    "Processing Data"
   ]
  },
  {
   "cell_type": "code",
   "execution_count": 27,
   "metadata": {},
   "outputs": [],
   "source": [
    "#Set domain\n",
    "scaler_x = MinMaxScaler(feature_range = (0, 1))\n",
    "scaler_y = MinMaxScaler(feature_range = (0, 1))"
   ]
  },
  {
   "cell_type": "code",
   "execution_count": 28,
   "metadata": {},
   "outputs": [],
   "source": [
    "#Fit data\n",
    "cols_x = ['H-L', 'O-C', f'SMA_{MA1}', f'SMA_{MA2}', f'SMA_{MA3}', f'SD_{MA1}', f'SD_{MA3}'] #Variables for training\n",
    "cols_y = ['Close'] #Variable for predict\n",
    "scaled_data_x = scaler_x.fit_transform(df[cols_x].values.reshape(-1, len(cols_x))) \n",
    "scaled_data_y = scaler_y.fit_transform(df[cols_y].values.reshape(-1, len(cols_y)))"
   ]
  },
  {
   "cell_type": "code",
   "execution_count": 29,
   "metadata": {},
   "outputs": [
    {
     "data": {
      "text/html": [
       "<div>\n",
       "<style scoped>\n",
       "    .dataframe tbody tr th:only-of-type {\n",
       "        vertical-align: middle;\n",
       "    }\n",
       "\n",
       "    .dataframe tbody tr th {\n",
       "        vertical-align: top;\n",
       "    }\n",
       "\n",
       "    .dataframe thead th {\n",
       "        text-align: right;\n",
       "    }\n",
       "</style>\n",
       "<table border=\"1\" class=\"dataframe\">\n",
       "  <thead>\n",
       "    <tr style=\"text-align: right;\">\n",
       "      <th></th>\n",
       "      <th>Unnamed: 0</th>\n",
       "      <th>Open</th>\n",
       "      <th>High</th>\n",
       "      <th>Low</th>\n",
       "      <th>Close</th>\n",
       "      <th>Volume</th>\n",
       "      <th>TradingDate</th>\n",
       "      <th>H-L</th>\n",
       "      <th>O-C</th>\n",
       "      <th>SMA_7</th>\n",
       "      <th>SMA_14</th>\n",
       "      <th>SMA_21</th>\n",
       "      <th>SD_7</th>\n",
       "      <th>SD_21</th>\n",
       "    </tr>\n",
       "  </thead>\n",
       "  <tbody>\n",
       "    <tr>\n",
       "      <th>20</th>\n",
       "      <td>20</td>\n",
       "      <td>19637.0</td>\n",
       "      <td>19637.0</td>\n",
       "      <td>19637.0</td>\n",
       "      <td>19637.0</td>\n",
       "      <td>283920</td>\n",
       "      <td>2007-01-11</td>\n",
       "      <td>0.0</td>\n",
       "      <td>0.0</td>\n",
       "      <td>19031.571429</td>\n",
       "      <td>18543.357143</td>\n",
       "      <td>18356.238095</td>\n",
       "      <td>692.763032</td>\n",
       "      <td>1111.115021</td>\n",
       "    </tr>\n",
       "    <tr>\n",
       "      <th>21</th>\n",
       "      <td>21</td>\n",
       "      <td>20619.0</td>\n",
       "      <td>20619.0</td>\n",
       "      <td>20619.0</td>\n",
       "      <td>20619.0</td>\n",
       "      <td>279710</td>\n",
       "      <td>2007-01-12</td>\n",
       "      <td>0.0</td>\n",
       "      <td>0.0</td>\n",
       "      <td>19452.285714</td>\n",
       "      <td>18722.857143</td>\n",
       "      <td>18590.000000</td>\n",
       "      <td>621.483364</td>\n",
       "      <td>1040.709133</td>\n",
       "    </tr>\n",
       "    <tr>\n",
       "      <th>22</th>\n",
       "      <td>22</td>\n",
       "      <td>21012.0</td>\n",
       "      <td>21640.0</td>\n",
       "      <td>21012.0</td>\n",
       "      <td>21640.0</td>\n",
       "      <td>274290</td>\n",
       "      <td>2007-01-15</td>\n",
       "      <td>628.0</td>\n",
       "      <td>-628.0</td>\n",
       "      <td>19895.428571</td>\n",
       "      <td>19039.857143</td>\n",
       "      <td>18835.000000</td>\n",
       "      <td>903.049991</td>\n",
       "      <td>1125.043555</td>\n",
       "    </tr>\n",
       "    <tr>\n",
       "      <th>23</th>\n",
       "      <td>23</td>\n",
       "      <td>22701.0</td>\n",
       "      <td>22701.0</td>\n",
       "      <td>22701.0</td>\n",
       "      <td>22701.0</td>\n",
       "      <td>339760</td>\n",
       "      <td>2007-01-16</td>\n",
       "      <td>0.0</td>\n",
       "      <td>0.0</td>\n",
       "      <td>20361.142857</td>\n",
       "      <td>19373.714286</td>\n",
       "      <td>19091.238095</td>\n",
       "      <td>1356.434840</td>\n",
       "      <td>1352.523083</td>\n",
       "    </tr>\n",
       "    <tr>\n",
       "      <th>24</th>\n",
       "      <td>24</td>\n",
       "      <td>23526.0</td>\n",
       "      <td>23526.0</td>\n",
       "      <td>21601.0</td>\n",
       "      <td>21601.0</td>\n",
       "      <td>145870</td>\n",
       "      <td>2007-01-17</td>\n",
       "      <td>1925.0</td>\n",
       "      <td>1925.0</td>\n",
       "      <td>20697.714286</td>\n",
       "      <td>19570.071429</td>\n",
       "      <td>19253.952381</td>\n",
       "      <td>1325.267358</td>\n",
       "      <td>1440.593679</td>\n",
       "    </tr>\n",
       "  </tbody>\n",
       "</table>\n",
       "</div>"
      ],
      "text/plain": [
       "    Unnamed: 0     Open     High      Low    Close  Volume TradingDate  \\\n",
       "20          20  19637.0  19637.0  19637.0  19637.0  283920  2007-01-11   \n",
       "21          21  20619.0  20619.0  20619.0  20619.0  279710  2007-01-12   \n",
       "22          22  21012.0  21640.0  21012.0  21640.0  274290  2007-01-15   \n",
       "23          23  22701.0  22701.0  22701.0  22701.0  339760  2007-01-16   \n",
       "24          24  23526.0  23526.0  21601.0  21601.0  145870  2007-01-17   \n",
       "\n",
       "       H-L     O-C         SMA_7        SMA_14        SMA_21         SD_7  \\\n",
       "20     0.0     0.0  19031.571429  18543.357143  18356.238095   692.763032   \n",
       "21     0.0     0.0  19452.285714  18722.857143  18590.000000   621.483364   \n",
       "22   628.0  -628.0  19895.428571  19039.857143  18835.000000   903.049991   \n",
       "23     0.0     0.0  20361.142857  19373.714286  19091.238095  1356.434840   \n",
       "24  1925.0  1925.0  20697.714286  19570.071429  19253.952381  1325.267358   \n",
       "\n",
       "          SD_21  \n",
       "20  1111.115021  \n",
       "21  1040.709133  \n",
       "22  1125.043555  \n",
       "23  1352.523083  \n",
       "24  1440.593679  "
      ]
     },
     "execution_count": 29,
     "metadata": {},
     "output_type": "execute_result"
    }
   ],
   "source": [
    "df.head()"
   ]
  },
  {
   "cell_type": "code",
   "execution_count": 30,
   "metadata": {},
   "outputs": [],
   "source": [
    "#Training seq X and output value Y\n",
    "pre_day = 30\n",
    "x_total = [] # Variables today\n",
    "y_total = [] #Close price tomorrow\n",
    "for i in range(pre_day, len(df)):\n",
    "    x_total.append(scaled_data_x[i-pre_day:i])\n",
    "    y_total.append(scaled_data_y[i])"
   ]
  },
  {
   "cell_type": "code",
   "execution_count": 31,
   "metadata": {},
   "outputs": [
    {
     "name": "stdout",
     "output_type": "stream",
     "text": [
      "(3941, 30, 7) (3941, 1) (30, 30, 7) (30, 1)\n"
     ]
    }
   ],
   "source": [
    "#Set test\n",
    "test_size = 365\n",
    "\n",
    "#Traning set\n",
    "x_train = np.array(x_total[:len(x_total)-test_size]) #tranning set (0, 30)\n",
    "y_train = np.array(y_total[:len(y_total)-test_size]) #taget tranning set\n",
    "\n",
    "#Predicted set\n",
    "x_test = np.array(x_total[len(x_total)-test_size:]) #predicted set (31,...)\n",
    "y_test = np.array(y_total[len(y_total)-test_size:]) #taget predicted set\n",
    "\n",
    "#Structure of tranning data\n",
    "print(x_train.shape, y_train.shape, x_test.shape, y_test.shape)"
   ]
  },
  {
   "attachments": {},
   "cell_type": "markdown",
   "metadata": {},
   "source": [
    "Build Model"
   ]
  },
  {
   "cell_type": "code",
   "execution_count": 32,
   "metadata": {},
   "outputs": [],
   "source": [
    "#Layers\n",
    "model = Sequential()\n",
    "cells = 40\n",
    "model.add(LSTM(units = cells, return_sequences = True, input_shape = (x_train.shape[1], x_train.shape[2]))) #input traning date and predicting date \n",
    "model.add(Dropout(0.1))\n",
    "model.add(LSTM(units = cells, return_sequences = True))\n",
    "model.add(Dropout(0.2))\n",
    "model.add(LSTM(units = cells, return_sequences = True))\n",
    "model.add(Dropout(0.2))\n",
    "model.add(LSTM(units = cells, return_sequences = True))\n",
    "model.add(Dropout(0.2))\n",
    "model.add(LSTM(units = cells))\n",
    "model.add(Dropout(0.2))\n",
    "model.add(Dense(units = len(cols_y))) "
   ]
  },
  {
   "cell_type": "code",
   "execution_count": 33,
   "metadata": {},
   "outputs": [],
   "source": [
    "#Optimizer\n",
    "model.compile(optimizer = optimizers.RMSprop(), loss = 'mse', metrics = ['accuracy']) #Optimizer, loss\n",
    "history = model.fit(x_train, y_train, epochs = 1, batch_size = 1, use_multiprocessing = True)#Fit input to taget\n",
    "len(history.history['loss'])"
   ]
  },
  {
   "cell_type": "code",
   "execution_count": null,
   "metadata": {},
   "outputs": [],
   "source": [
    "#Save model\n",
    "from keras.models import save_model\n",
    "\n",
    "save_model(model, f\"Model\\{company}.h5\", include_optimizer = True)"
   ]
  },
  {
   "attachments": {},
   "cell_type": "markdown",
   "metadata": {},
   "source": [
    "Testing"
   ]
  },
  {
   "cell_type": "code",
   "execution_count": null,
   "metadata": {},
   "outputs": [],
   "source": [
    "#Load model\n",
    "from keras.models import load_model\n",
    "\n",
    "model = load_model(f\"Model\\{company}.h5\")"
   ]
  },
  {
   "cell_type": "code",
   "execution_count": null,
   "metadata": {},
   "outputs": [
    {
     "name": "stdout",
     "output_type": "stream",
     "text": [
      "1/1 [==============================] - 0s 30ms/step\n"
     ]
    },
    {
     "data": {
      "image/png": "[encoded data removed]",
      "text/plain": [
       "<Figure size 1000x500 with 1 Axes>"
      ]
     },
     "metadata": {},
     "output_type": "display_data"
    }
   ],
   "source": [
    "#Visualization\n",
    "real_price = df[len(df)-test_size:]['Close'].values.reshape(-1, 1)\n",
    "real_price = np.array(real_price)\n",
    "real_price = real_price.reshape(real_price.shape[0], 1)\n",
    "predict_prices = model.predict(x_test)\n",
    "predict_prices = scaler_y.inverse_transform(predict_prices)\n",
    "\n",
    "plt.figure(figsize = (10,5))\n",
    "plt.plot(real_price, color = \"red\", label = f\"Real {company}'s prices\")\n",
    "plt.plot(predict_prices, color = \"blue\", label = f\"Predicted {company}'s prices\")\n",
    "plt.title(f\"{company}'s prices for 10 years\")\n",
    "plt.xlabel(\"Days\")\n",
    "plt.ylabel(\"Stock Prices\")\n",
    "plt.legend()\n",
    "plt.show()"
   ]
  }
 ],
 "metadata": {
  "kernelspec": {
   "display_name": "suffingstock",
   "language": "python",
   "name": "python3"
  },
  "language_info": {
   "codemirror_mode": {
    "name": "ipython",
    "version": 3
   },
   "file_extension": ".py",
   "mimetype": "text/x-python",
   "name": "python",
   "nbconvert_exporter": "python",
   "pygments_lexer": "ipython3",
   "version": "3.10.9"
  },
  "orig_nbformat": 4,
  "vscode": {
   "interpreter": {
    "hash": "fb9f9a70a6245780145c9202aff985b17816aac2f3913cb90956570ed8f38c89"
   }
  }
 },
 "nbformat": 4,
 "nbformat_minor": 2
}
